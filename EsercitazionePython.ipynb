{
 "cells": [
  {
   "cell_type": "markdown",
   "id": "ae8420c8-346b-425b-bf7e-ecabbd4a067e",
   "metadata": {},
   "source": [
    "## Esercitazione Python -- 18/02/2025"
   ]
  },
  {
   "cell_type": "markdown",
   "id": "2dbec7a5-a12e-4693-ab65-a8fd067ff356",
   "metadata": {},
   "source": [
    "**Liste:**\n",
    "\n",
    "Scrivi una funzione che prende una lista di numeri e restituisce una nuova lista contenente solo i numeri pari.\n",
    "\n",
    "Crea una funzione che inverte l'ordine degli elementi in una lista (senza usare reverse() o slicing).\n",
    "\n",
    "Scrivi un programma che trova il valore più grande e il valore più piccolo in una lista.\n"
   ]
  },
  {
   "cell_type": "code",
   "execution_count": 49,
   "id": "b8e8a4fe-263b-464a-8d1b-9406f75173e6",
   "metadata": {},
   "outputs": [
    {
     "name": "stdout",
     "output_type": "stream",
     "text": [
      "Lista:  [1, 2, 3, 4, 5]\n",
      "Numeri Pari:  [2, 4]\n",
      "Lista Invertita:  [5, 4, 3, 2, 1]\n",
      "Min =  1\n",
      "Max =  5\n"
     ]
    }
   ],
   "source": [
    "\\list = [1,2,3,4,5]\n",
    "print('Lista: ', list)\n",
    "\n",
    "def evenOnly(list):\n",
    "    l = list.copy()\n",
    "    for x in l:\n",
    "        if (x%2)==1:\n",
    "            l.remove(x)\n",
    "    return l\n",
    "print('Numeri Pari: ', evenOnly(list))\n",
    "\n",
    "def invertList(list):\n",
    "    i = -1\n",
    "    l = []\n",
    "    while i >= len(list)*-1:\n",
    "        l.append(list[i])\n",
    "        i -= 1\n",
    "    return l\n",
    "print('Lista Invertita: ', invertList(list)) \n",
    "\n",
    "def minandmax(list):\n",
    "    max = list[0]\n",
    "    min = list[0]\n",
    "    for x in list:\n",
    "        if x > max: \n",
    "            max = x\n",
    "        elif x < min: \n",
    "            min = x\n",
    "    print('Min = ', min)\n",
    "    print('Max = ', max)\n",
    "minandmax(list)\n",
    "        "
   ]
  },
  {
   "cell_type": "markdown",
   "id": "1af6bcd2-4c2a-4c67-ae77-c1559b9e3c76",
   "metadata": {},
   "source": [
    "**Stringhe:**\n",
    "\n",
    "Scrivi una funzione che conta il numero di vocali in una stringa.\n",
    "\n",
    "Crea una funzione che verifica se una stringa è un palindromo (si legge allo stesso modo da sinistra a destra e viceversa).\n",
    "\n",
    "Scrivi un programma che converte una stringa in maiuscolo o minuscolo (a scelta dell'utente).\n"
   ]
  },
  {
   "cell_type": "code",
   "execution_count": 63,
   "id": "1b6991e3-3867-4304-85be-fe04325bb137",
   "metadata": {},
   "outputs": [
    {
     "name": "stdout",
     "output_type": "stream",
     "text": [
      "Stringa:  Daniel\n",
      "Numero Vocali:  3\n"
     ]
    }
   ],
   "source": [
    "s = 'Daniel'\n",
    "print('Stringa: ', s)\n",
    "\n",
    "def contaVocali(s):\n",
    "    counter = 0\n",
    "    for lettera in s:\n",
    "        if lettera in 'aeiou':\n",
    "            counter += 1\n",
    "    return counter\n",
    "print('Numero Vocali: ', contaVocali(s))\n"
   ]
  },
  {
   "cell_type": "markdown",
   "id": "c9b84acc-0820-455c-8ca5-3208908ff49a",
   "metadata": {},
   "source": [
    "**Dizionari:**\n",
    "\n",
    "Crea un dizionario che contenga alcune parole italiane e le loro traduzioni in inglese. Scrivi un programma che chieda all'utente una parola italiana e restituisca la sua traduzione inglese, oppure un messaggio se la parola non è presente nel dizionario.\n",
    "\n",
    "\n",
    "Scrivi una funzione che prenda in input un dizionario e una chiave, e restituisca True se la chiave è presente nel dizionario, False altrimenti.\n",
    "\n"
   ]
  },
  {
   "cell_type": "code",
   "execution_count": 74,
   "id": "39f323d2-8a3a-45d3-928a-3e76f0383bea",
   "metadata": {},
   "outputs": [
    {
     "name": "stdin",
     "output_type": "stream",
     "text": [
      "Inserisci parola da tradurre ciao\n"
     ]
    },
    {
     "name": "stdout",
     "output_type": "stream",
     "text": [
      "Parola sconosciuta\n"
     ]
    }
   ],
   "source": [
    "dizionario = {'albero':'tree','faccia':'face','pavimento':'floor','sedia':'chair'}\n",
    "x = input('Inserisci parola da tradurre')\n",
    "if x in dizionario:\n",
    "    print('Traduzione = ', dizionario.get(x))\n",
    "else:\n",
    "    print('Parola sconosciuta')"
   ]
  },
  {
   "cell_type": "code",
   "execution_count": 79,
   "id": "2789bb43-36d5-481b-8e60-e525ccff32af",
   "metadata": {},
   "outputs": [
    {
     "data": {
      "text/plain": [
       "True"
      ]
     },
     "execution_count": 79,
     "metadata": {},
     "output_type": "execute_result"
    }
   ],
   "source": [
    "dizionario = {'albero':'tree','faccia':'face','pavimento':'floor','sedia':'chair'}\n",
    "def controlloParola(dizionario, key):\n",
    "    if key in dizionario:\n",
    "        return True\n",
    "    else:\n",
    "        return False\n",
    "controlloParola(dizionario, 'albero')\n"
   ]
  },
  {
   "cell_type": "markdown",
   "id": "001cb876-957e-47e1-aba4-3d798f2688a0",
   "metadata": {},
   "source": [
    "**Cicli for:**\n",
    "\n",
    "Scrivi un programma che stampa i numeri da 1 a 10 usando un ciclo for.\n",
    "\n",
    "Crea una funzione che calcola la somma dei numeri in una lista usando un ciclo for.\n",
    "\n",
    "Scrivi un programma che stampa una tabella di moltiplicazione (ad esempio, da 1 a 10) usando cicli for annidati.\n"
   ]
  },
  {
   "cell_type": "code",
   "execution_count": null,
   "id": "85a7ec02-d703-4781-aad4-0622b289ac72",
   "metadata": {},
   "outputs": [],
   "source": [
    "for x in range(10): \n",
    "    print (x + 1)"
   ]
  },
  {
   "cell_type": "code",
   "execution_count": null,
   "id": "dcb5b743-4dd4-4b91-83e1-9aa38b1ecf18",
   "metadata": {},
   "outputs": [],
   "source": [
    "list = [1,2,3,4,5]\n",
    "print('Lista: ', list)\n",
    "def sum(list):\n",
    "    sum = 0\n",
    "    for x in list:\n",
    "       sum += x\n",
    "    return sum\n",
    "print('Somma: ', sum(list))"
   ]
  },
  {
   "cell_type": "code",
   "execution_count": 1,
   "id": "f4c571f5-2488-43f6-bba0-61cb3b35f7d0",
   "metadata": {},
   "outputs": [
    {
     "name": "stdout",
     "output_type": "stream",
     "text": [
      "[1, 2, 3, 4, 5, 6, 7, 8, 9, 10]\n",
      "[2, 4, 6, 8, 10, 12, 14, 16, 18, 20]\n",
      "[3, 6, 9, 12, 15, 18, 21, 24, 27, 30]\n",
      "[4, 8, 12, 16, 20, 24, 28, 32, 36, 40]\n",
      "[5, 10, 15, 20, 25, 30, 35, 40, 45, 50]\n",
      "[6, 12, 18, 24, 30, 36, 42, 48, 54, 60]\n",
      "[7, 14, 21, 28, 35, 42, 49, 56, 63, 70]\n",
      "[8, 16, 24, 32, 40, 48, 56, 64, 72, 80]\n",
      "[9, 18, 27, 36, 45, 54, 63, 72, 81, 90]\n",
      "[10, 20, 30, 40, 50, 60, 70, 80, 90, 100]\n"
     ]
    }
   ],
   "source": [
    "for x in range(10):\n",
    "    output = []\n",
    "    for y in range(10):\n",
    "        output.append((x+1)*(y+1))\n",
    "    print(output)\n",
    "        "
   ]
  },
  {
   "cell_type": "markdown",
   "id": "9ac6c2c6-431c-45f9-8962-8e4301422c46",
   "metadata": {},
   "source": [
    "**Cicli while:**\n",
    "\n",
    "\n",
    "Crea una funzione che calcola il fattoriale di un numero usando un ciclo while.\n",
    "\n",
    "Scrivi un programma che stampa i numeri pari da 0 a 100 usando un ciclo while.\n"
   ]
  },
  {
   "cell_type": "code",
   "execution_count": 92,
   "id": "05dd957f-39bf-4518-8083-979e6d569326",
   "metadata": {},
   "outputs": [
    {
     "name": "stdout",
     "output_type": "stream",
     "text": [
      "Fattoriale:  120\n"
     ]
    }
   ],
   "source": [
    "def factorial(n):\n",
    "    i = 1\n",
    "    fact = 1\n",
    "    while i <= n:\n",
    "        fact = i * fact\n",
    "        i += 1\n",
    "    return fact\n",
    "print('Fattoriale: ', factorial(5))"
   ]
  },
  {
   "cell_type": "code",
   "execution_count": 5,
   "id": "5b6a237e-77fe-4b64-80d0-d7d7849f242a",
   "metadata": {},
   "outputs": [
    {
     "name": "stdout",
     "output_type": "stream",
     "text": [
      "2\n",
      "4\n",
      "6\n",
      "8\n",
      "10\n",
      "12\n",
      "14\n",
      "16\n",
      "18\n",
      "20\n",
      "22\n",
      "24\n",
      "26\n",
      "28\n",
      "30\n",
      "32\n",
      "34\n",
      "36\n",
      "38\n",
      "40\n",
      "42\n",
      "44\n",
      "46\n",
      "48\n",
      "50\n",
      "52\n",
      "54\n",
      "56\n",
      "58\n",
      "60\n",
      "62\n",
      "64\n",
      "66\n",
      "68\n",
      "70\n",
      "72\n",
      "74\n",
      "76\n",
      "78\n",
      "80\n",
      "82\n",
      "84\n",
      "86\n",
      "88\n",
      "90\n",
      "92\n",
      "94\n",
      "96\n",
      "98\n",
      "100\n"
     ]
    }
   ],
   "source": [
    "i = 0\n",
    "while i <= 98:\n",
    "    i += 2\n",
    "    print(i)"
   ]
  },
  {
   "cell_type": "markdown",
   "id": "0af7c6c7-68c3-448a-a297-76fa2875130a",
   "metadata": {},
   "source": [
    "**List comprehension:**\n",
    "\n",
    "Usa una list comprehension per creare una nuova lista contenente i quadrati dei numeri da 1 a 10.\n",
    "\n",
    "Usa una list comprehension per filtrare una lista di stringhe e ottenere solo quelle che iniziano con una determinata lettera.\n",
    "\n",
    "Usa una list comprehension per creare un dizionario dove le chiavi sono i numeri da 1 a 5 e i valori sono i loro quadrati.\n"
   ]
  },
  {
   "cell_type": "code",
   "execution_count": 4,
   "id": "b22f682c-29d1-4d2c-8b05-9411f1c38d04",
   "metadata": {},
   "outputs": [
    {
     "name": "stdout",
     "output_type": "stream",
     "text": [
      "[1, 4, 9, 16, 25, 36, 49, 64, 81, 100]\n"
     ]
    }
   ],
   "source": [
    "l = [x**2 for x in range(1,11)]\n",
    "print(l)"
   ]
  },
  {
   "cell_type": "code",
   "execution_count": 17,
   "id": "ed083f79-8351-42bd-988b-5ace48403e4d",
   "metadata": {},
   "outputs": [
    {
     "name": "stdout",
     "output_type": "stream",
     "text": [
      "['albero']\n"
     ]
    }
   ],
   "source": [
    "l1 = ['ciao', 'daniel', 'cielo', 'albero']\n",
    "l2 = [x for x in l1 if x[0] == 'a']\n",
    "print(l2)"
   ]
  },
  {
   "cell_type": "code",
   "execution_count": 19,
   "id": "5fc61fe0-49da-42e7-bd2e-a6d59cd31521",
   "metadata": {},
   "outputs": [
    {
     "name": "stdout",
     "output_type": "stream",
     "text": [
      "{1: 1, 2: 4, 3: 9, 4: 16, 5: 25}\n"
     ]
    }
   ],
   "source": [
    "dizionario = {x:x**2 for x in range(1,6)}\n",
    "print(dizionario)"
   ]
  },
  {
   "cell_type": "markdown",
   "id": "4866ecae-6286-4d11-97ed-dccc4a6ef325",
   "metadata": {},
   "source": [
    "**If, else, elif:**\n",
    "\n",
    "Scrivi una funzione che determina se un numero è positivo, negativo o zero.\n",
    "\n",
    "Scrivi un programma che calcola il prezzo di un biglietto del cinema in base all'eta"
   ]
  },
  {
   "cell_type": "code",
   "execution_count": 24,
   "id": "a4583081-fba4-4998-bfa1-012645d35e45",
   "metadata": {},
   "outputs": [
    {
     "name": "stdout",
     "output_type": "stream",
     "text": [
      "Il numero è negativo\n"
     ]
    }
   ],
   "source": [
    "n = -1\n",
    "def numSign(n):\n",
    "    if n > 0:\n",
    "        print('Il numero è positivo.')\n",
    "    elif n < 0:\n",
    "        print('Il numero è negativo.')\n",
    "    else:\n",
    "        print('il numero è zero.')\n",
    "numSign(n)"
   ]
  },
  {
   "cell_type": "code",
   "execution_count": 32,
   "id": "3f8ba433-12bd-4e4e-af22-6bc4b753bd4c",
   "metadata": {},
   "outputs": [
    {
     "name": "stdin",
     "output_type": "stream",
     "text": [
      "Inserisci la tua età:  19\n"
     ]
    },
    {
     "name": "stdout",
     "output_type": "stream",
     "text": [
      "Il prezzo del biglietto è 10 euro\n"
     ]
    }
   ],
   "source": [
    "x = input('Inserisci la tua età: ')\n",
    "\n",
    "if int(x) > 10:\n",
    "    print('Il prezzo del biglietto è 10 euro')\n",
    "else:\n",
    "    print('Il prezzo del biglietto è 5 euro')"
   ]
  },
  {
   "cell_type": "markdown",
   "id": "840b7e68-db5a-4919-bfce-54ad348ce17d",
   "metadata": {},
   "source": [
    "**Matchcase**"
   ]
  },
  {
   "cell_type": "markdown",
   "id": "9f329943-6fc4-429a-91c4-1d1210b0eff2",
   "metadata": {},
   "source": [
    "Scrivi una funzione che prenda in input un numero intero compreso tra 0 e 5 e restituisca la sua rappresentazione in parole (zero, uno, due, tre, quattro, cinque). Utilizza match/case per implementare la logica."
   ]
  },
  {
   "cell_type": "code",
   "execution_count": 39,
   "id": "1cd2be24-835f-47d2-9c22-6c4780d40a30",
   "metadata": {},
   "outputs": [
    {
     "name": "stdin",
     "output_type": "stream",
     "text": [
      "Inserisci un numero tra 0 e 5:  3\n"
     ]
    }
   ],
   "source": [
    "x = int(input('Inserisci un numero tra 0 e 5: '))\n",
    "\n",
    "if (x <= 5 and x >= 0):\n",
    "    match x:\n",
    "        case '0':\n",
    "            print('zero')\n",
    "        case '1':\n",
    "            print('uno')\n",
    "        case '2':\n",
    "            print('due')\n",
    "        case '3':\n",
    "            print('tre')\n",
    "        case '4':\n",
    "            print('quattro')\n",
    "        case '5':\n",
    "            print('cinque')\n",
    "else:\n",
    "    print('numero non valido!')"
   ]
  },
  {
   "cell_type": "code",
   "execution_count": null,
   "id": "af526920-0a22-415f-a8a0-b84a9c8b4bb5",
   "metadata": {},
   "outputs": [],
   "source": []
  }
 ],
 "metadata": {
  "kernelspec": {
   "display_name": "Python 3 (ipykernel)",
   "language": "python",
   "name": "python3"
  },
  "language_info": {
   "codemirror_mode": {
    "name": "ipython",
    "version": 3
   },
   "file_extension": ".py",
   "mimetype": "text/x-python",
   "name": "python",
   "nbconvert_exporter": "python",
   "pygments_lexer": "ipython3",
   "version": "3.12.4"
  }
 },
 "nbformat": 4,
 "nbformat_minor": 5
}
